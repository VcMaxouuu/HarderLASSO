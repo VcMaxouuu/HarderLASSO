{
 "cells": [
  {
   "cell_type": "markdown",
   "id": "92791fdd",
   "metadata": {},
   "source": [
    "# HarderLASSO: Comprehensive Examples\n",
    "\n",
    "This notebook demonstrates the capabilities of the HarderLASSO library for neural network-based feature selection across different machine learning tasks.\n",
    "\n",
    "## Table of Contents\n",
    "1. [Setup and Imports](#setup)\n",
    "2. [Regression Examples](#regression)\n",
    "3. [Classification Examples](#classification)\n",
    "4. [Survival Analysis Examples](#survival)"
   ]
  },
  {
   "cell_type": "markdown",
   "id": "0b2e8d22",
   "metadata": {},
   "source": [
    "## 1. Setup and Imports {#setup}"
   ]
  },
  {
   "cell_type": "code",
   "execution_count": 1,
   "id": "b9eb7929",
   "metadata": {},
   "outputs": [
    {
     "name": "stdout",
     "output_type": "stream",
     "text": [
      "Setup complete!\n"
     ]
    }
   ],
   "source": [
    "# Core imports\n",
    "import numpy as np\n",
    "import pandas as pd\n",
    "import matplotlib.pyplot as plt\n",
    "import seaborn as sns\n",
    "from sklearn.model_selection import train_test_split, cross_val_score\n",
    "from sklearn.datasets import load_digits, load_breast_cancer, make_regression, make_classification\n",
    "\n",
    "# HarderLASSO imports\n",
    "from HarderLASSO import HarderLASSORegressor, HarderLASSOClassifier, HarderLASSOCox\n",
    "\n",
    "# Survival analysis\n",
    "from lifelines.datasets import load_rossi, load_kidney_transplant\n",
    "\n",
    "print(\"Setup complete!\")"
   ]
  },
  {
   "cell_type": "markdown",
   "id": "440d6c1e",
   "metadata": {},
   "source": [
    "## 2. Regression Examples {#regression}\n",
    "\n",
    "### 2.1 Synthetic High-Dimensional Data"
   ]
  },
  {
   "cell_type": "code",
   "execution_count": 2,
   "id": "078c673b",
   "metadata": {},
   "outputs": [
    {
     "name": "stdout",
     "output_type": "stream",
     "text": [
      "Generating synthetic regression data:\n",
      "- Samples: 200\n",
      "- Features: 100\n",
      "- Informative features: 10\n",
      "\n",
      "Training set: (140, 100)\n",
      "Test set: (60, 100)\n"
     ]
    }
   ],
   "source": [
    "# Generate high-dimensional synthetic data\n",
    "n_samples, n_features = 200, 100\n",
    "n_informative = 10\n",
    "\n",
    "\n",
    "print(f\"Generating synthetic regression data:\")\n",
    "print(f\"- Samples: {n_samples}\")\n",
    "print(f\"- Features: {n_features}\")\n",
    "print(f\"- Informative features: {n_informative}\")\n",
    "\n",
    "X= np.random.normal(size=(n_samples, n_features))\n",
    "features = np.arange(n_informative)\n",
    "beta = 3*np.ones(n_informative)\n",
    "y = X[:, features]@beta + np.random.normal(size=n_samples)\n",
    "\n",
    "X_train, X_test, y_train, y_test = train_test_split(X, y, test_size=0.3, random_state=42)\n",
    "\n",
    "print(f\"\\nTraining set: {X_train.shape}\")\n",
    "print(f\"Test set: {X_test.shape}\")"
   ]
  },
  {
   "cell_type": "code",
   "execution_count": 3,
   "id": "b8536170",
   "metadata": {},
   "outputs": [
    {
     "name": "stdout",
     "output_type": "stream",
     "text": [
      "Training HarderLASSO Regressor...\n",
      "\n",
      "=== Regression Results ===\n",
      "Selected features: 10 / 100\n",
      "Lambda QUT: 3.4477\n",
      "Train R²: 0.9896\n",
      "Test R²: 0.9851\n",
      "Train MSE: 0.9701\n",
      "Test MSE: 1.0853\n",
      "Selected feature indices: [0, 1, 2, 3, 4, 5, 6, 7, 8, 9]\n"
     ]
    }
   ],
   "source": [
    "# Fit HarderLASSO Regressor\n",
    "print(\"Training HarderLASSO Regressor...\")\n",
    "\n",
    "model_reg = HarderLASSORegressor(\n",
    "    hidden_dims=(20, ),  # One hidden layers\n",
    "    penalty='harder'\n",
    ")\n",
    "\n",
    "model_reg.fit(X_train, y_train, verbose=False)\n",
    "\n",
    "# Make predictions\n",
    "y_pred_train = model_reg.predict(X_train)\n",
    "y_pred_test = model_reg.predict(X_test)\n",
    "\n",
    "# Evaluate performance\n",
    "train_metrics = model_reg.score(X_train, y_train)\n",
    "test_metrics = model_reg.score(X_test, y_test)\n",
    "\n",
    "print(f\"\\n=== Regression Results ===\")\n",
    "print(f\"Selected features: {len(model_reg.selected_features_indices_)} / {n_features}\")\n",
    "print(f\"Lambda QUT: {model_reg.lambda_qut_:.4f}\")\n",
    "print(f\"Train R²: {train_metrics['R2']:.4f}\")\n",
    "print(f\"Test R²: {test_metrics['R2']:.4f}\")\n",
    "print(f\"Train MSE: {train_metrics['MSE']:.4f}\")\n",
    "print(f\"Test MSE: {test_metrics['MSE']:.4f}\")\n",
    "print(f\"Selected feature indices: {model_reg.selected_features_indices_}\")"
   ]
  },
  {
   "cell_type": "markdown",
   "id": "35def839",
   "metadata": {},
   "source": [
    "### 2.2 Comparison with Different Penalties"
   ]
  },
  {
   "cell_type": "code",
   "execution_count": 4,
   "id": "c41dfca7",
   "metadata": {},
   "outputs": [
    {
     "name": "stdout",
     "output_type": "stream",
     "text": [
      "Comparing different penalty functions...\n",
      "\n",
      "Training with harder penalty...\n",
      "  Test R²: 0.9859\n",
      "  Selected features: 10\n",
      "  Lambda: 3.4060\n",
      "\n",
      "Training with l1 penalty...\n",
      "  Test R²: -12.8899\n",
      "  Selected features: 10\n",
      "  Lambda: 3.4367\n",
      "\n",
      "Training with scad penalty...\n",
      "  Test R²: 0.9893\n",
      "  Selected features: 10\n",
      "  Lambda: 3.4213\n",
      "\n",
      "=== Penalty Comparison ===\n",
      "        test_r2  n_features  lambda\n",
      "harder   0.9859        10.0  3.4060\n",
      "l1     -12.8899        10.0  3.4367\n",
      "scad     0.9893        10.0  3.4213\n"
     ]
    }
   ],
   "source": [
    "# Compare different penalty functions\n",
    "penalties = ['harder', 'l1', 'scad']\n",
    "results = {}\n",
    "\n",
    "print(\"Comparing different penalty functions...\")\n",
    "\n",
    "for penalty in penalties:\n",
    "    print(f\"\\nTraining with {penalty} penalty...\")\n",
    "\n",
    "    model = HarderLASSORegressor(\n",
    "        hidden_dims=(20,),\n",
    "        penalty=penalty\n",
    "    )\n",
    "\n",
    "    model.fit(X_train, y_train, verbose=False)\n",
    "\n",
    "    # Evaluate\n",
    "    test_score = model.score(X_test, y_test)\n",
    "    n_selected = len(model.selected_features_indices_)\n",
    "\n",
    "    results[penalty] = {\n",
    "        'test_r2': test_score['R2'],\n",
    "        'n_features': n_selected,\n",
    "        'lambda': model.lambda_qut_\n",
    "    }\n",
    "\n",
    "    print(f\"  Test R²: {test_score['R2']:.4f}\")\n",
    "    print(f\"  Selected features: {n_selected}\")\n",
    "    print(f\"  Lambda: {model.lambda_qut_:.4f}\")\n",
    "\n",
    "# Create comparison DataFrame\n",
    "comparison_df = pd.DataFrame(results).T\n",
    "print(\"\\n=== Penalty Comparison ===\")\n",
    "print(comparison_df.round(4))"
   ]
  },
  {
   "cell_type": "markdown",
   "id": "7b7f71d9",
   "metadata": {},
   "source": [
    "## 3. Classification Examples {#classification}\n",
    "\n",
    "### 3.1 Digit Recognition"
   ]
  },
  {
   "cell_type": "code",
   "execution_count": 5,
   "id": "c3df910e",
   "metadata": {},
   "outputs": [
    {
     "name": "stdout",
     "output_type": "stream",
     "text": [
      "Loading digits dataset...\n",
      "Dataset shape: (1797, 64)\n",
      "Number of classes: 10\n",
      "Class distribution: [178 182 177 183 181 182 181 179 174 180]\n",
      "\n",
      "Training set: (1437, 64)\n",
      "Test set: (360, 64)\n"
     ]
    }
   ],
   "source": [
    "# Load digits dataset\n",
    "print(\"Loading digits dataset...\")\n",
    "X_digits, y_digits = load_digits(return_X_y=True)\n",
    "\n",
    "print(f\"Dataset shape: {X_digits.shape}\")\n",
    "print(f\"Number of classes: {len(np.unique(y_digits))}\")\n",
    "print(f\"Class distribution: {np.bincount(y_digits)}\")\n",
    "\n",
    "# Split the data\n",
    "X_train_dig, X_test_dig, y_train_dig, y_test_dig = train_test_split(\n",
    "    X_digits, y_digits, test_size=0.2, stratify=y_digits\n",
    ")\n",
    "\n",
    "print(f\"\\nTraining set: {X_train_dig.shape}\")\n",
    "print(f\"Test set: {X_test_dig.shape}\")"
   ]
  },
  {
   "cell_type": "code",
   "execution_count": 6,
   "id": "72e88c61",
   "metadata": {},
   "outputs": [
    {
     "name": "stdout",
     "output_type": "stream",
     "text": [
      "Training HarderLASSO Classifier...\n",
      "\n",
      "=== Classification Results ===\n",
      "Selected features: 9 / 64\n",
      "Lambda QUT: 168.6994\n",
      "Train accuracy: 0.9506\n",
      "Test accuracy: 0.9417\n",
      "Feature reduction: 85.9%\n"
     ]
    }
   ],
   "source": [
    "# Train HarderLASSO Classifier\n",
    "print(\"Training HarderLASSO Classifier...\")\n",
    "\n",
    "model_clf = HarderLASSOClassifier(\n",
    "    hidden_dims=(20, ),\n",
    "    penalty='harder'\n",
    ")\n",
    "\n",
    "model_clf.fit(X_train_dig, y_train_dig, verbose=False)\n",
    "\n",
    "train_metrics = model_clf.score(X_train_dig, y_train_dig)\n",
    "test_metrics = model_clf.score(X_test_dig, y_test_dig)\n",
    "\n",
    "print(f\"\\n=== Classification Results ===\")\n",
    "print(f\"Selected features: {len(model_clf.selected_features_indices_)} / {X_digits.shape[1]}\")\n",
    "print(f\"Lambda QUT: {model_clf.lambda_qut_:.4f}\")\n",
    "print(f\"Train accuracy: {train_metrics['accuracy']:.4f}\")\n",
    "print(f\"Test accuracy: {test_metrics['accuracy']:.4f}\")\n",
    "print(f\"Feature reduction: {(1 - len(model_clf.selected_features_indices_)/X_digits.shape[1]):.1%}\")"
   ]
  },
  {
   "cell_type": "markdown",
   "id": "22f4f76a",
   "metadata": {},
   "source": [
    "### 3.2 Breast Cancer Classification"
   ]
  },
  {
   "cell_type": "code",
   "execution_count": 7,
   "id": "25b43af7",
   "metadata": {},
   "outputs": [
    {
     "name": "stdout",
     "output_type": "stream",
     "text": [
      "Loading digits dataset...\n",
      "Dataset shape: (569, 30)\n",
      "Number of classes: 2\n",
      "Class distribution: [212 357]\n",
      "\n",
      "Training set: (455, 30)\n",
      "Test set: (114, 30)\n"
     ]
    }
   ],
   "source": [
    "# Load digits dataset\n",
    "print(\"Loading digits dataset...\")\n",
    "X_breast, y_breast = load_breast_cancer(return_X_y=True)\n",
    "\n",
    "print(f\"Dataset shape: {X_breast.shape}\")\n",
    "print(f\"Number of classes: {len(np.unique(y_breast))}\")\n",
    "print(f\"Class distribution: {np.bincount(y_breast)}\")\n",
    "\n",
    "# Split the data\n",
    "X_train_breast, X_test_breast, y_train_breast, y_test_breast = train_test_split(\n",
    "    X_breast, y_breast, test_size=0.2, stratify=y_breast\n",
    ")\n",
    "\n",
    "print(f\"\\nTraining set: {X_train_breast.shape}\")\n",
    "print(f\"Test set: {X_test_breast.shape}\")"
   ]
  },
  {
   "cell_type": "code",
   "execution_count": 8,
   "id": "0ae34796",
   "metadata": {},
   "outputs": [
    {
     "name": "stdout",
     "output_type": "stream",
     "text": [
      "Training classifier on breast cancer data...\n",
      "\n",
      "=== Breast Cancer Classification ===\n",
      "Test accuracy: 0.9825\n",
      "Selected features: 3 / 100\n",
      "\n",
      "Selected feature names:\n",
      "  1. feature_20\n",
      "  2. feature_21\n",
      "  3. feature_27\n"
     ]
    }
   ],
   "source": [
    "# Train classifier with feature names\n",
    "print(\"Training classifier on breast cancer data...\")\n",
    "\n",
    "model_cancer = HarderLASSOClassifier(\n",
    "    hidden_dims=(20, 10),\n",
    "    penalty='harder'\n",
    ")\n",
    "\n",
    "model_cancer.fit(X_train_breast, y_train_breast, verbose=False)\n",
    "\n",
    "# Evaluate\n",
    "test_acc_cancer = model_cancer.score(X_test_breast, y_test_breast)['accuracy']\n",
    "selected_features_cancer = model_cancer.selected_features_\n",
    "\n",
    "print(f\"\\n=== Breast Cancer Classification ===\")\n",
    "print(f\"Test accuracy: {test_acc_cancer:.4f}\")\n",
    "print(f\"Selected features: {len(selected_features_cancer)} / {X.shape[1]}\")\n",
    "print(f\"\\nSelected feature names:\")\n",
    "for i, feature in enumerate(selected_features_cancer[:10]):\n",
    "    print(f\"  {i+1}. {feature}\")\n",
    "if len(selected_features_cancer) > 10:\n",
    "    print(f\"  ... and {len(selected_features_cancer) - 10} more\")"
   ]
  },
  {
   "cell_type": "markdown",
   "id": "ac35a77f",
   "metadata": {},
   "source": [
    "## 4. Survival Analysis Examples {#survival}\n",
    "\n",
    "### 4.1 Rossi Recidivism Dataset"
   ]
  },
  {
   "cell_type": "code",
   "execution_count": 9,
   "id": "4599e946",
   "metadata": {},
   "outputs": [
    {
     "name": "stdout",
     "output_type": "stream",
     "text": [
      "Loading Rossi recidivism dataset...\n",
      "Dataset shape: (432, 9)\n",
      "Columns: ['week', 'arrest', 'fin', 'age', 'race', 'wexp', 'mar', 'paro', 'prio']\n",
      "\n",
      "First few rows:\n",
      "   week  arrest  fin  age  race  wexp  mar  paro  prio\n",
      "0    20       1    0   27     1     0    0     1     3\n",
      "1    17       1    0   18     1     0    0     1     8\n",
      "2    25       1    0   19     0     1    0     1    13\n",
      "3    52       0    1   23     1     1    1     1     1\n",
      "4    52       0    0   19     0     1    0     1     3\n",
      "\n",
      "Survival data summary:\n",
      "Number of events: 114 / 432 (26.4%)\n",
      "Median follow-up time: 52.0 weeks\n",
      "Features: ['fin', 'age', 'race', 'wexp', 'mar', 'paro', 'prio']\n"
     ]
    }
   ],
   "source": [
    "# Load Rossi dataset\n",
    "print(\"Loading Rossi recidivism dataset...\")\n",
    "df_rossi = load_rossi()\n",
    "\n",
    "print(f\"Dataset shape: {df_rossi.shape}\")\n",
    "print(f\"Columns: {list(df_rossi.columns)}\")\n",
    "print(f\"\\nFirst few rows:\")\n",
    "print(df_rossi.head())\n",
    "\n",
    "# Prepare data\n",
    "X_rossi = df_rossi.drop(columns=['week', 'arrest'])\n",
    "time_rossi = df_rossi['week']\n",
    "event_rossi = df_rossi['arrest']\n",
    "\n",
    "print(f\"\\nSurvival data summary:\")\n",
    "print(f\"Number of events: {event_rossi.sum()} / {len(event_rossi)} ({event_rossi.mean():.1%})\")\n",
    "print(f\"Median follow-up time: {time_rossi.median():.1f} weeks\")\n",
    "print(f\"Features: {list(X_rossi.columns)}\")"
   ]
  },
  {
   "cell_type": "code",
   "execution_count": 11,
   "id": "40fab882",
   "metadata": {},
   "outputs": [
    {
     "name": "stdout",
     "output_type": "stream",
     "text": [
      "Training HarderLASSO Cox model...\n",
      "\n",
      "=== Cox Regression Results ===\n",
      "Concordance index: 0.6332\n",
      "Selected features: 2 / 7\n",
      "Lambda QUT: 0.5805\n",
      "\n",
      "Selected features:\n",
      "  - age\n",
      "  - prio\n",
      "\n",
      "Coefficients (hazard ratios):\n",
      "  age: -0.421 (HR: 0.657)\n",
      "  prio: 0.272 (HR: 1.313)\n"
     ]
    }
   ],
   "source": [
    "# Train HarderLASSO Cox model\n",
    "print(\"Training HarderLASSO Cox model...\")\n",
    "\n",
    "model_cox = HarderLASSOCox(\n",
    "    hidden_dims=None, # Linear model used\n",
    "    penalty='harder'\n",
    ")\n",
    "\n",
    "model_cox.fit(X_rossi, (time_rossi, event_rossi), verbose=False)\n",
    "\n",
    "# Evaluate model\n",
    "concordance_index = model_cox.score(X_rossi, (time_rossi, event_rossi))['C-index']\n",
    "selected_features_cox = model_cox.selected_features_\n",
    "\n",
    "print(f\"\\n=== Cox Regression Results ===\")\n",
    "print(f\"Concordance index: {concordance_index:.4f}\")\n",
    "print(f\"Selected features: {len(selected_features_cox)} / {X_rossi.shape[1]}\")\n",
    "print(f\"Lambda QUT: {model_cox.lambda_qut_:.4f}\")\n",
    "\n",
    "print(f\"\\nSelected features:\")\n",
    "for feature in selected_features_cox:\n",
    "    print(f\"  - {feature}\")\n",
    "\n",
    "# Show coefficients for selected features\n",
    "if hasattr(model_cox, 'coef_') and len(selected_features_cox) > 0:\n",
    "    print(f\"\\nCoefficients (hazard ratios):\")\n",
    "    selected_indices = model_cox.selected_features_indices_\n",
    "    coefficients = model_cox.coef_[selected_indices]\n",
    "\n",
    "    for feature, coef in zip(selected_features_cox, coefficients):\n",
    "        hr = np.exp(coef)\n",
    "        print(f\"  {feature}: {coef:.3f} (HR: {hr:.3f})\")"
   ]
  }
 ],
 "metadata": {
  "kernelspec": {
   "display_name": "Python 3",
   "language": "python",
   "name": "python3"
  },
  "language_info": {
   "codemirror_mode": {
    "name": "ipython",
    "version": 3
   },
   "file_extension": ".py",
   "mimetype": "text/x-python",
   "name": "python",
   "nbconvert_exporter": "python",
   "pygments_lexer": "ipython3",
   "version": "3.12.5"
  }
 },
 "nbformat": 4,
 "nbformat_minor": 5
}
